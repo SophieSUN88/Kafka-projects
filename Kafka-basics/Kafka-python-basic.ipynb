{
 "cells": [
  {
   "cell_type": "markdown",
   "id": "eeb9303a",
   "metadata": {},
   "source": [
    "# preparation\n",
    "start your Zookeeper server and Kafka broker before executing the example code \n",
    "1. start Zookeeper in terminal: \n",
    "* zookeeper-server-start /usr/local/etc/kafka/zookeeper.properties\n",
    "2. start Kafka in terminal:\n",
    "* kafka-server-start /usr/local/etc/kafka/server.properties\n",
    "3. Create a new topic in Kafka\n",
    "* kafka-topics --create --bootstrap-server localhost:9092 --replication-factor 1 --partition 1 --topic test\n",
    "4. check the topic in kafka\n",
    "* kafka-topics --list --bootstrap-server localhost:9092 \n",
    "-------------\n",
    "\n",
    "result for me:\n",
    "* __consumer_offsets\n",
    "* numtest\n",
    "* test\n",
    "* twitter\n",
    "\n",
    "--------------\n",
    "\n"
   ]
  },
  {
   "cell_type": "markdown",
   "id": "1637d106",
   "metadata": {},
   "source": [
    "pip install confluent-kafka"
   ]
  },
  {
   "cell_type": "markdown",
   "id": "a269fcab",
   "metadata": {},
   "source": [
    "# Producer"
   ]
  },
  {
   "cell_type": "code",
   "execution_count": 1,
   "id": "c829dfd2",
   "metadata": {},
   "outputs": [],
   "source": [
    "from confluent_kafka import Producer, Consumer"
   ]
  },
  {
   "cell_type": "code",
   "execution_count": 2,
   "id": "aeb64aa1",
   "metadata": {},
   "outputs": [],
   "source": [
    "p = Producer({'bootstrap.servers':'localhost:9092'})\n",
    "topic ='test'\n",
    "p.produce(topic,\"help\")\n",
    "p.produce(topic,\"123\")\n",
    "p.produce(topic,\"456\")\n",
    "p.produce(topic,\"help\")"
   ]
  },
  {
   "cell_type": "code",
   "execution_count": 3,
   "id": "217a204a",
   "metadata": {},
   "outputs": [
    {
     "data": {
      "text/plain": [
       "0"
      ]
     },
     "execution_count": 3,
     "metadata": {},
     "output_type": "execute_result"
    }
   ],
   "source": [
    "p.flush()"
   ]
  },
  {
   "cell_type": "markdown",
   "id": "b1997d11",
   "metadata": {},
   "source": [
    "# Comsumer"
   ]
  },
  {
   "cell_type": "code",
   "execution_count": 4,
   "id": "2ec1749e",
   "metadata": {},
   "outputs": [
    {
     "name": "stdout",
     "output_type": "stream",
     "text": [
      "Recieved message:help\n",
      "Recieved message:123\n",
      "Recieved message:456\n",
      "Recieved message:help\n"
     ]
    },
    {
     "ename": "KeyboardInterrupt",
     "evalue": "",
     "output_type": "error",
     "traceback": [
      "\u001b[0;31m---------------------------------------------------------------------------\u001b[0m",
      "\u001b[0;31mKeyboardInterrupt\u001b[0m                         Traceback (most recent call last)",
      "\u001b[0;32m/var/folders/z6/0pj6l08s5pb16r3bm3nnh_5m0000gn/T/ipykernel_77830/615143798.py\u001b[0m in \u001b[0;36m<module>\u001b[0;34m\u001b[0m\n\u001b[1;32m      8\u001b[0m \u001b[0;34m\u001b[0m\u001b[0m\n\u001b[1;32m      9\u001b[0m \u001b[0;32mwhile\u001b[0m \u001b[0;32mTrue\u001b[0m\u001b[0;34m:\u001b[0m\u001b[0;34m\u001b[0m\u001b[0;34m\u001b[0m\u001b[0m\n\u001b[0;32m---> 10\u001b[0;31m     \u001b[0mmsg\u001b[0m \u001b[0;34m=\u001b[0m \u001b[0mc\u001b[0m\u001b[0;34m.\u001b[0m\u001b[0mpoll\u001b[0m\u001b[0;34m(\u001b[0m\u001b[0;36m0.1\u001b[0m\u001b[0;34m)\u001b[0m\u001b[0;34m\u001b[0m\u001b[0;34m\u001b[0m\u001b[0m\n\u001b[0m\u001b[1;32m     11\u001b[0m \u001b[0;34m\u001b[0m\u001b[0m\n\u001b[1;32m     12\u001b[0m     \u001b[0;32mif\u001b[0m \u001b[0mmsg\u001b[0m \u001b[0;32mis\u001b[0m \u001b[0;32mNone\u001b[0m\u001b[0;34m:\u001b[0m\u001b[0;34m\u001b[0m\u001b[0;34m\u001b[0m\u001b[0m\n",
      "\u001b[0;31mKeyboardInterrupt\u001b[0m: "
     ]
    }
   ],
   "source": [
    "c=Consumer({\n",
    "    'bootstrap.servers':'localhost:9092',\n",
    "    'group.id':'mygroup',\n",
    "    'auto.offset.reset':'earliest'\n",
    "})\n",
    "\n",
    "c.subscribe(['test'])\n",
    "\n",
    "while True:\n",
    "    msg = c.poll(0.1)\n",
    "\n",
    "    if msg is None:\n",
    "        continue\n",
    "    if msg.error():\n",
    "        print(\"Consumer error: {}\".format(msg.error()))\n",
    "        continue\n",
    "    print(\"Recieved message:{}\".format(msg.value().decode('utf-8')))\n",
    "\n",
    "\n",
    "c.close()\n",
    "# close by hand"
   ]
  }
 ],
 "metadata": {
  "kernelspec": {
   "display_name": "Python 3",
   "language": "python",
   "name": "python3"
  },
  "language_info": {
   "codemirror_mode": {
    "name": "ipython",
    "version": 3
   },
   "file_extension": ".py",
   "mimetype": "text/x-python",
   "name": "python",
   "nbconvert_exporter": "python",
   "pygments_lexer": "ipython3",
   "version": "3.9.6"
  }
 },
 "nbformat": 4,
 "nbformat_minor": 5
}
